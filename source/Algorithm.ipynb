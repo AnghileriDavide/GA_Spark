{
 "cells": [
  {
   "cell_type": "code",
   "execution_count": 6,
   "metadata": {},
   "outputs": [],
   "source": [
    "from pyspark.sql import SparkSession\n",
    "from pyspark.sql.types import *\n",
    "from pyspark.sql.functions import *\n",
    "from pyspark.sql import Row\n",
    "import numpy as np\n",
    "import pandas as pd\n",
    "import random\n",
    "from datetime import datetime\n",
    "import re"
   ]
  },
  {
   "cell_type": "code",
   "execution_count": 7,
   "metadata": {
    "collapsed": true
   },
   "outputs": [],
   "source": [
    "spark = SparkSession.builder \\\n",
    "    .master('local[*]') \\\n",
    "    .appName('IPDE') \\\n",
    "    .getOrCreate()\n",
    "sc = spark.sparkContext"
   ]
  },
  {
   "cell_type": "code",
   "execution_count": 169,
   "metadata": {
    "collapsed": true
   },
   "outputs": [],
   "source": [
    "#population size (MUST BE multiple of workers)\n",
    "NP=20\n",
    "#Dimensions\n",
    "D=3\n",
    "#bounds\n",
    "bound = 5\n",
    "#workers = partitions = islands\n",
    "workers = 4\n",
    "#number of itaration for each island evolution\n",
    "numIteration=2\n",
    "#mutation scaling Factor\n",
    "F = 0.6\n",
    "#CRossover constant\n",
    "CR = 0.5\n",
    "#Mutation Strategy\n",
    "MuSt = \"differenceVector\"\n",
    "#Crossover strategy\n",
    "CRSt = \"binomial\""
   ]
  },
  {
   "cell_type": "code",
   "execution_count": 170,
   "metadata": {
    "collapsed": true
   },
   "outputs": [],
   "source": [
    "def mutation(a,b,c):\n",
    "    if(MuSt == \"differenceVector\"):\n",
    "        return a+F*(b-c)\n",
    "    return a+b+c"
   ]
  },
  {
   "cell_type": "code",
   "execution_count": 171,
   "metadata": {
    "collapsed": true
   },
   "outputs": [],
   "source": [
    "def crossover(target,donor):\n",
    "    if(CRSt == \"exponential\"):  \n",
    "        n = int(random.random()*D)\n",
    "        l=1\n",
    "        while(random.random()<=CR and l<D):\n",
    "            l=l+1\n",
    "        for i in range(0,len(target)):\n",
    "            print(\"i: \",i)\n",
    "            for k in range(n,n+l):  \n",
    "                if(i==k%D):\n",
    "                    target[i]=donor[i] \n",
    "    elif(CRSt == \"binomial\"): \n",
    "        #jrand ensure at least one component is changed\n",
    "        jrand = int(random.random()*D)\n",
    "        for j in range(0,len(target)):\n",
    "            if(random.random()<=CR or j==jrand):\n",
    "                target[j]=donor[j]\n",
    "    return target"
   ]
  },
  {
   "cell_type": "code",
   "execution_count": 172,
   "metadata": {},
   "outputs": [],
   "source": [
    "# IMPO this function will go in another file\n",
    "# now is here because is easier without the import\n",
    "def islandsMap(index, iterator): \n",
    "    \n",
    "    oldPop = list(iterator)\n",
    "    localItaration=0\n",
    "    #stopping variable\n",
    "    stop=False\n",
    "    while(not stop):\n",
    "        newPop = []\n",
    "        localItaration=localItaration+1\n",
    "        #for each crhomosome in the population\n",
    "        for i in range(0,len(oldPop)):\n",
    "            targetPartition = oldPop[i][0]\n",
    "            target = oldPop[i][1]\n",
    "            #select 2 chromosomes at random\n",
    "            indA = int(random.random()*len(oldPop))\n",
    "            while(indA==i):\n",
    "                indA = int(random.random()*len(oldPop))\n",
    "            indB = int(random.random()*len(oldPop))\n",
    "            while(indB==i or indB==indA):\n",
    "                indB = int(random.random()*len(oldPop))\n",
    "            indC = int(random.random()*len(oldPop))\n",
    "            while(indC==i or indC==indB or indC==indA):\n",
    "                indC = int(random.random()*len(oldPop))\n",
    "            donor = mutation(oldPop[indA][1],oldPop[indB][1],oldPop[indC][1])\n",
    "            trial = crossover(target,donor)\n",
    "            # evaluate the new chromosome and if it is  better substitute it (FOR NOW IS RANDOM)\n",
    "            if(random.random()>0.9):\n",
    "                newPop.append((targetPartition,trial))\n",
    "            else:\n",
    "                newPop.append((targetPartition,target))\n",
    "                \n",
    "        #check stopping criteria\n",
    "        if(localItaration==numIteration):\n",
    "            stop=True\n",
    "        #substitute the population\n",
    "        oldPop=newPop\n",
    "            \n",
    "    return iter(newPop)\n",
    "    "
   ]
  },
  {
   "cell_type": "code",
   "execution_count": 173,
   "metadata": {},
   "outputs": [
    {
     "name": "stdout",
     "output_type": "stream",
     "text": [
      "number of partitions:  4\n",
      "Partitions structure: [[(0, array([ 4.34847813,  3.78068006,  2.7948319 ])), (0, array([-4.5111294 ,  2.88548736, -4.05138449])), (0, array([ 3.94437617, -0.69918321, -2.16134014])), (0, array([-0.58595355,  0.3132661 , -1.57275623])), (0, array([ 0.77257177,  0.84187709, -3.6908342 ]))], [(1, array([ 0.01907109,  2.77099133, -3.76259192])), (1, array([ 3.39749082, -0.30037354, -4.87594619])), (1, array([ 0.12683512, -4.8118533 , -4.66869741])), (1, array([-2.54275198,  3.72296714,  2.04076396])), (1, array([-2.71551918,  1.14288615,  1.51107412]))], [(2, array([ 3.55301601, -0.96582483,  1.09701266])), (2, array([-2.77807917,  0.10809944,  3.05873371])), (2, array([-0.9814001 , -2.48377252, -2.7045901 ])), (2, array([-3.44085264,  2.48356198,  3.75147239])), (2, array([ 4.32348209, -1.24629528, -0.49329517]))], [(3, array([-1.47054911, -4.34547485,  4.99702844])), (3, array([ 1.33357503, -2.46645338, -4.88078651])), (3, array([-0.04886125, -3.6822795 , -0.8848122 ])), (3, array([-4.12527682,  3.27828846, -3.70846675])), (3, array([ 4.31382798, -2.42066834, -2.75298731]))]]\n"
     ]
    },
    {
     "data": {
      "text/plain": [
       "[(0, array([-5.6592569 , -0.35308217, -0.67416319])),\n",
       " (0, array([-8.37745473, -1.93939261, -4.05138449])),\n",
       " (0, array([-5.33347273, -1.82521264, -5.32223127])),\n",
       " (0, array([-11.14927279,  -3.11953882,  -1.57275623])),\n",
       " (0, array([-12.78019149,  -4.07132509,  -3.59908901])),\n",
       " (1, array([-0.58035856,  0.28103449, -0.51867131])),\n",
       " (1, array([-2.18211082, -2.68725805, -4.87594619])),\n",
       " (1, array([-3.35954688, -3.24455555, -5.1937601 ])),\n",
       " (1, array([-0.26031355, -3.35363859,  2.04076396])),\n",
       " (1, array([-1.22136491, -5.13461412, -0.57360097])),\n",
       " (2, array([ 3.55301601,  2.11812644, -0.57337277])),\n",
       " (2, array([-5.95864535,  6.80929251,  3.64668866])),\n",
       " (2, array([-10.15496654,   7.02855384,   4.46197346])),\n",
       " (2, array([-14.18343488,   9.75554895,   0.78543522])),\n",
       " (2, array([-1.38185771,  3.8858803 ,  2.06416562])),\n",
       " (3, array([-1.47054911,  0.02770177, -2.16149171])),\n",
       " (3, array([ -5.0809788 ,  10.39601987,  -5.55910934])),\n",
       " (3, array([ -6.67381542,  12.34637189,  -6.37361133])),\n",
       " (3, array([ -8.20293858,  17.78722195,  -3.51899502])),\n",
       " (3, array([-3.34372498,  4.46242301, -4.28500273]))]"
      ]
     },
     "execution_count": 173,
     "metadata": {},
     "output_type": "execute_result"
    }
   ],
   "source": [
    "#create population\n",
    "\n",
    "#create the NP x D np.matrix with random numbers between +- bound\n",
    "initialPop = np.random.random_sample((NP,D))*bound*2-bound\n",
    "\n",
    "#create the NP x D dataframe with random numbers between +- bound\n",
    "#df2 = pd.DataFrame(np.random.random_sample((NP,D))*bound*2-bound)\n",
    "\n",
    "#partition the population\n",
    "rdd = sc.parallelize(initialPop)\n",
    "#create ann rdd with the partition number for each chromosome at random but evenly distributed\n",
    "indexes = []\n",
    "for i in range(0,workers):\n",
    "    for k in range(0,int(NP/workers)):\n",
    "        indexes.append(i)\n",
    "random.shuffle(indexes)\n",
    "# print(\"random indexes genereted: \" , x)\n",
    "index = sc.parallelize(indexes)\n",
    "rdd = index.zip(rdd)\n",
    "#partition by the key previously computed at random\n",
    "rdd=rdd.partitionBy(workers)\n",
    "print(\"number of partitions: \",rdd.getNumPartitions())\n",
    "print(\"Partitions structure: {}\".format(rdd.glom().collect()))\n",
    "rdd.mapPartitionsWithIndex(islandsMap).collect()\n",
    "\n",
    "\n",
    "\n"
   ]
  },
  {
   "cell_type": "code",
   "execution_count": null,
   "metadata": {
    "collapsed": true
   },
   "outputs": [],
   "source": []
  }
 ],
 "metadata": {
  "kernelspec": {
   "display_name": "Python 3",
   "language": "python",
   "name": "python3"
  },
  "language_info": {
   "codemirror_mode": {
    "name": "ipython",
    "version": 3
   },
   "file_extension": ".py",
   "mimetype": "text/x-python",
   "name": "python",
   "nbconvert_exporter": "python",
   "pygments_lexer": "ipython3",
   "version": "3.6.2"
  }
 },
 "nbformat": 4,
 "nbformat_minor": 2
}
