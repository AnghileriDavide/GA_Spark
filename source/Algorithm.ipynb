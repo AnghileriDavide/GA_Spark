{
 "cells": [
  {
   "cell_type": "code",
   "execution_count": 1,
   "metadata": {
    "collapsed": true
   },
   "outputs": [],
   "source": [
    "from pyspark.sql import SparkSession\n",
    "from pyspark.sql.types import *\n",
    "from pyspark.sql.functions import *\n",
    "from pyspark.sql import Row\n",
    "import numpy as np\n",
    "import pandas as pd\n",
    "import random\n",
    "from datetime import datetime\n",
    "import re"
   ]
  },
  {
   "cell_type": "code",
   "execution_count": 2,
   "metadata": {
    "collapsed": true
   },
   "outputs": [],
   "source": [
    "spark = SparkSession.builder \\\n",
    "    .master('local[*]') \\\n",
    "    .appName('IPDE') \\\n",
    "    .getOrCreate()\n",
    "sc = spark.sparkContext"
   ]
  },
  {
   "cell_type": "code",
   "execution_count": 3,
   "metadata": {
    "collapsed": true
   },
   "outputs": [],
   "source": [
    "#population size (MUST BE multiple of workers)\n",
    "NP=20\n",
    "#Dimensions\n",
    "D=3\n",
    "#bounds\n",
    "bound = 5\n",
    "#workers = partitions = islands\n",
    "workers = 4\n"
   ]
  },
  {
   "cell_type": "code",
   "execution_count": 20,
   "metadata": {},
   "outputs": [
    {
     "data": {
      "text/plain": [
       "[(0, array([-0.78441903, -1.94624976,  0.80452642])),\n",
       " (1, array([ 3.76182444, -0.15809298, -3.54600336])),\n",
       " (2, array([-0.91660713, -4.48262739,  2.81680581])),\n",
       " (3, array([ 4.703977  , -1.73450137,  2.23197469])),\n",
       " (4, array([-1.24634154, -4.74846649, -1.96623769])),\n",
       " (5, array([ 3.34634533,  1.80853155,  1.12169297])),\n",
       " (6, array([-1.70714605,  1.2735794 ,  1.44000764])),\n",
       " (7, array([ 0.05682371, -4.34534804, -0.63895739])),\n",
       " (8, array([-0.59954193,  1.78961585,  1.11402442])),\n",
       " (9, array([-2.34966309,  4.32232095, -1.92517572])),\n",
       " (10, array([-2.50949948, -3.41724869,  3.02112822])),\n",
       " (11, array([-4.28577468,  0.14194759, -2.89146637])),\n",
       " (12, array([ 4.10808487, -1.21723301,  2.11270095])),\n",
       " (13, array([ 0.10464206,  3.79614295,  0.43522768])),\n",
       " (14, array([-2.56002403,  4.77164998, -0.73595353])),\n",
       " (15, array([-0.21917994,  1.19300091, -0.96684823])),\n",
       " (16, array([-1.80552024, -3.19390528, -3.84209695])),\n",
       " (17, array([-0.97100655,  1.86290515, -3.40447215])),\n",
       " (18, array([-2.54225801,  3.08944791,  2.20796863])),\n",
       " (19, array([-2.01014704, -0.61425036,  1.00816782]))]"
      ]
     },
     "execution_count": 20,
     "metadata": {},
     "output_type": "execute_result"
    }
   ],
   "source": [
    "#create population\n",
    "\n",
    "#create the NP x D np.matrix with random numbers between +- bound\n",
    "initialPop = np.random.random_sample((NP,D))*bound*2-bound\n",
    "\n",
    "\n",
    "#create the NP x D dataframe with random numbers between +- bound\n",
    "#df2 = pd.DataFrame(np.random.random_sample((NP,D))*bound*2-bound)\n",
    "\n",
    "#partition the population\n",
    "rdd = sc.parallelize(initialPop)\n",
    "#create ann rdd with the partition number for each chromosome at random but evenly distributed\n",
    "x = []\n",
    "for i in range(0,NP):\n",
    "    partition = int(random.random()*workers)\n",
    "    for k in range\n",
    "\n",
    "\n",
    "\n",
    "index = sc.parallelize(keys)\n",
    "keyedRdd = index.zip(rdd)\n",
    "keyedRdd.collect()\n",
    "\n",
    "\n"
   ]
  },
  {
   "cell_type": "code",
   "execution_count": null,
   "metadata": {
    "collapsed": true
   },
   "outputs": [],
   "source": []
  },
  {
   "cell_type": "code",
   "execution_count": null,
   "metadata": {
    "collapsed": true
   },
   "outputs": [],
   "source": []
  }
 ],
 "metadata": {
  "kernelspec": {
   "display_name": "Python 3",
   "language": "python",
   "name": "python3"
  },
  "language_info": {
   "codemirror_mode": {
    "name": "ipython",
    "version": 3
   },
   "file_extension": ".py",
   "mimetype": "text/x-python",
   "name": "python",
   "nbconvert_exporter": "python",
   "pygments_lexer": "ipython3",
   "version": "3.6.2"
  }
 },
 "nbformat": 4,
 "nbformat_minor": 2
}
