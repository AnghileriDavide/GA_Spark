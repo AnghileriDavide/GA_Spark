{
 "cells": [
  {
   "cell_type": "code",
   "execution_count": 11,
   "metadata": {
    "collapsed": true
   },
   "outputs": [],
   "source": [
    "from pyspark.sql import SparkSession\n",
    "from pyspark.sql.types import *\n",
    "from pyspark.sql.functions import *\n",
    "from pyspark.sql import Row"
   ]
  },
  {
   "cell_type": "code",
   "execution_count": 12,
   "metadata": {},
   "outputs": [],
   "source": [
    "# Importing the required notebooks\n",
    "%run DifferentialEvolution.ipynb\n",
    "%run IslandMethod.ipynb"
   ]
  },
  {
   "cell_type": "code",
   "execution_count": 13,
   "metadata": {
    "collapsed": true
   },
   "outputs": [],
   "source": [
    "# Funtion for which to measure time\n",
    "def wrapper(func, *args, **kwargs):\n",
    "    def wrapped():\n",
    "        return func(*args, **kwargs)\n",
    "    return wrapped"
   ]
  },
  {
   "cell_type": "code",
   "execution_count": 6,
   "metadata": {
    "scrolled": false
   },
   "outputs": [
    {
     "name": "stdout",
     "output_type": "stream",
     "text": [
      "\n",
      "Number of Evaluations 20\n",
      "\n",
      "Initial partition structure: [[(0, (array([ 0.06393361,  0.08942213]), 1.6044200752128162)), (1, (array([-0.2568589 , -0.08220498]), 3.775469288744465))], [(2, (array([ 0.60377589, -0.71014358]), 115.65261764893096)), (3, (array([-0.37372621,  0.95513417]), 68.385095077931283))], [(4, (array([ 0.10818021,  0.50986878]), 25.612261040466084)), (5, (array([-0.52451141,  0.2987155 ]), 2.3798465192924705))], [(6, (array([-0.63680205, -0.61978311]), 107.80312193157059)), (7, (array([-0.90881744,  0.7109185 ]), 4.9667887953464938)), (8, (array([-0.20710828,  0.0264566 ]), 1.4841286657837243)), (9, (array([ 0.47692619,  0.21934043]), 0.28019665767451618))], [(10, (array([ 0.75358513,  0.75921998]), 3.7214153364786964)), (11, (array([ 0.60777696,  0.82455008]), 20.870651493656233))], [(12, (array([-0.74046389, -0.62658039]), 141.06049872967412)), (13, (array([-0.91743077, -0.9245184 ]), 315.62193837191415))], [(14, (array([ 0.57359539,  0.69757177]), 13.765476023277312)), (15, (array([ 0.83406786,  0.28750533]), 16.687307766512443))], [(16, (array([ 0.92082093,  0.16735492]), 46.32195159962798)), (17, (array([-0.74499986,  0.5448892 ]), 3.055297532705449)), (18, (array([-0.78025248, -0.70077975]), 174.66762271321642)), (19, (array([ 0.05411319,  0.483348  ]), 23.975017154383657))]]\n",
      "Number of partitions: 1\n",
      "\n",
      "Best chromosome ->: [(16, (array([ 0.9999912 ,  0.99998222]), 8.0625283778648228e-11))]\n",
      "\n",
      "Values after island: [(16, (array([ 0.9999912 ,  0.99998222]), 8.0625283778648228e-11)), (8, (array([ 0.99998546,  0.99997007]), 2.8501830612424202e-10)), (15, (array([ 0.99997461,  0.99994882]), 6.6067838972864071e-10)), (6, (array([ 1.0000032 ,  1.00000351]), 8.4885142022627054e-10)), (2, (array([ 1.0000419 ,  1.00008578]), 2.1478066047313511e-09)), (1, (array([ 1.0000644 ,  1.00012739]), 4.3493660556226823e-09)), (14, (array([ 1.00001274,  1.00001879]), 4.6297269402614899e-09)), (9, (array([ 1.00000265,  1.0000123 ]), 4.9050449656931823e-09)), (4, (array([ 0.99995775,  0.99992231]), 6.4246703885512558e-09)), (18, (array([ 1.00006862,  1.00012885]), 1.1749427267090841e-08)), (12, (array([ 0.99990109,  0.99980784]), 1.2985318166716898e-08)), (13, (array([ 0.99989435,  0.99978428]), 1.3128185338597877e-08)), (0, (array([ 0.99991685,  0.99984354]), 1.659036785478535e-08)), (10, (array([ 1.00006674,  1.00012012]), 2.2333705778785202e-08)), (11, (array([ 0.99997456,  0.99993313]), 2.6219694269902887e-08)), (19, (array([ 1.0001003 ,  1.00018553]), 3.2811172410527412e-08)), (5, (array([ 1.00008317,  1.00018303]), 3.4733375765728837e-08)), (17, (array([ 0.99984961,  0.99968579]), 4.0689371859569164e-08)), (7, (array([ 0.99978977,  0.99958889]), 5.2839106347250754e-08)), (3, (array([ 0.99990182,  0.99982561]), 5.7839164111495336e-08))]\n",
      "\n",
      "Values after island 2: [(16, (array([ 0.9999912 ,  0.99998222]), 8.0625283778648228e-11)), (8, (array([ 0.99998546,  0.99997007]), 2.8501830612424202e-10)), (15, (array([ 0.99997461,  0.99994882]), 6.6067838972864071e-10)), (6, (array([ 1.0000032 ,  1.00000351]), 8.4885142022627054e-10)), (2, (array([ 1.0000419 ,  1.00008578]), 2.1478066047313511e-09)), (1, (array([ 1.0000644 ,  1.00012739]), 4.3493660556226823e-09)), (14, (array([ 1.00001274,  1.00001879]), 4.6297269402614899e-09)), (9, (array([ 1.00000265,  1.0000123 ]), 4.9050449656931823e-09)), (4, (array([ 0.99995775,  0.99992231]), 6.4246703885512558e-09)), (18, (array([ 1.00006862,  1.00012885]), 1.1749427267090841e-08)), (12, (array([ 0.99990109,  0.99980784]), 1.2985318166716898e-08)), (13, (array([ 0.99989435,  0.99978428]), 1.3128185338597877e-08)), (0, (array([ 0.99991685,  0.99984354]), 1.659036785478535e-08)), (10, (array([ 1.00006674,  1.00012012]), 2.2333705778785202e-08)), (11, (array([ 0.99997456,  0.99993313]), 2.6219694269902887e-08)), (19, (array([ 1.0001003 ,  1.00018553]), 3.2811172410527412e-08)), (5, (array([ 1.00008317,  1.00018303]), 3.4733375765728837e-08)), (17, (array([ 0.99984961,  0.99968579]), 4.0689371859569164e-08)), (7, (array([ 0.99978977,  0.99958889]), 5.2839106347250754e-08)), (3, (array([ 0.99990182,  0.99982561]), 5.7839164111495336e-08))]\n",
      "\n",
      "Migration number: 1\n",
      "\n",
      "Number of Evaluations 2020\n",
      "\n",
      "The algorithm stopped because the minimum was reached\n",
      "\n",
      "Best chromosome: [ 0.9999912   0.99998222] Score: 8.06252837786e-11\n",
      "Execution time: 1.5836739649967058s\n"
     ]
    }
   ],
   "source": [
    "# Start spark\n",
    "spark = SparkSession.builder \\\n",
    "    .master('local[*]') \\\n",
    "    .appName('IPDE') \\\n",
    "    .getOrCreate()\n",
    "sc = spark.sparkContext\n",
    "        \n",
    "# Setting the test\n",
    "rosenberg = lambda x: 100 * (x[1] - x[0] * x[0])**2 + (1 - x[0])**2\n",
    "diffEvo = DifferentialEvolution(rosenberg, np = 20, d = 2, bound = 1)\n",
    "island = IslandMethod(diffEvo = diffEvo, workers = 1, localIt = 100)\n",
    "\n",
    "# Executing the island\n",
    "wrapped = wrapper(island.execute, sc)\n",
    "print(\"Execution time: \", timeit.timeit(wrapped, number = 1), \"s\", sep = '')"
   ]
  },
  {
   "cell_type": "code",
   "execution_count": 19,
   "metadata": {
    "collapsed": true
   },
   "outputs": [],
   "source": [
    "import os\n",
    "import sys\n",
    "nb_dir = os.path.split(os.getcwd())[0]\n",
    "if nb_dir not in sys.path:\n",
    "    sys.path.append(nb_dir)"
   ]
  },
  {
   "cell_type": "code",
   "execution_count": 21,
   "metadata": {},
   "outputs": [
    {
     "ename": "ImportError",
     "evalue": "cannot import name 'fgeneric'",
     "output_type": "error",
     "traceback": [
      "\u001b[0;31m---------------------------------------------------------------------------\u001b[0m",
      "\u001b[0;31mImportError\u001b[0m                               Traceback (most recent call last)",
      "\u001b[0;32m<ipython-input-21-f271c7033476>\u001b[0m in \u001b[0;36m<module>\u001b[0;34m()\u001b[0m\n\u001b[1;32m      1\u001b[0m \u001b[0;32mimport\u001b[0m \u001b[0mtime\u001b[0m\u001b[0;34m\u001b[0m\u001b[0m\n\u001b[1;32m      2\u001b[0m \u001b[0;32mimport\u001b[0m \u001b[0mnumpy\u001b[0m \u001b[0;32mas\u001b[0m \u001b[0mnp\u001b[0m\u001b[0;34m\u001b[0m\u001b[0m\n\u001b[0;32m----> 3\u001b[0;31m \u001b[0;32mfrom\u001b[0m \u001b[0mbbobbenchmarks\u001b[0m \u001b[0;32mimport\u001b[0m \u001b[0mfgeneric\u001b[0m\u001b[0;34m\u001b[0m\u001b[0m\n\u001b[0m\u001b[1;32m      4\u001b[0m \u001b[0;32mfrom\u001b[0m \u001b[0mbbobbenchmarks\u001b[0m \u001b[0;32mimport\u001b[0m \u001b[0mbbobbenchmarks\u001b[0m \u001b[0;32mas\u001b[0m \u001b[0mbn\u001b[0m\u001b[0;34m\u001b[0m\u001b[0m\n\u001b[1;32m      5\u001b[0m \u001b[0;34m\u001b[0m\u001b[0m\n",
      "\u001b[0;31mImportError\u001b[0m: cannot import name 'fgeneric'"
     ]
    }
   ],
   "source": [
    "import time\n",
    "import numpy as np\n",
    "from bbobbenchmarks import fgeneric\n",
    "from bbobbenchmarks import bbobbenchmarks as bn\n",
    "\n",
    "# Start spark\n",
    "spark = SparkSession.builder \\\n",
    "    .master('local[*]') \\\n",
    "    .appName('IPDE') \\\n",
    "    .getOrCreate()\n",
    "sc = spark.sparkContext\n",
    "\n",
    "# Preapare test\n",
    "nbrun = 0\n",
    "f = fgeneric.LoggingFunction('tmp').setfun(*bn.instantiate(8, 1))\n",
    "t0 = time.time()\n",
    "while time.time() - t0 < 30: # at least 30 seconds\n",
    "    #run_optimizer(f.evalfun, dim, eval(MAX_FUN_EVALS), f.ftarget)  # adjust maxfunevals\n",
    "    \n",
    "    diffEvo = DifferentialEvolution(f.evalfun, goal = f.ftarget, np = 20, d = 2, bound = 1)\n",
    "    island = IslandMethod(diffEvo = diffEvo, workers = 1, localIt = 100)\n",
    "    island.execute(sc)\n",
    "    \n",
    "    nbrun = nbrun + 1\n",
    "timings.append((time.time() - t0) / f.evaluations)\n",
    "f.finalizerun()\n",
    "    "
   ]
  },
  {
   "cell_type": "code",
   "execution_count": 8,
   "metadata": {},
   "outputs": [
    {
     "name": "stdout",
     "output_type": "stream",
     "text": [
      "Once deleted, variables cannot be recovered. Proceed (y/[n])? y\n"
     ]
    }
   ],
   "source": [
    "%reset"
   ]
  },
  {
   "cell_type": "code",
   "execution_count": null,
   "metadata": {
    "collapsed": true
   },
   "outputs": [],
   "source": []
  }
 ],
 "metadata": {
  "kernelspec": {
   "display_name": "Python 3",
   "language": "python",
   "name": "python3"
  },
  "language_info": {
   "codemirror_mode": {
    "name": "ipython",
    "version": 3
   },
   "file_extension": ".py",
   "mimetype": "text/x-python",
   "name": "python",
   "nbconvert_exporter": "python",
   "pygments_lexer": "ipython3",
   "version": "3.6.2"
  }
 },
 "nbformat": 4,
 "nbformat_minor": 2
}
